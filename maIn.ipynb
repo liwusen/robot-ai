{
 "cells": [
  {
   "cell_type": "code",
   "execution_count": 2,
   "metadata": {},
   "outputs": [
    {
     "name": "stdout",
     "output_type": "stream",
     "text": [
      "error:0\n"
     ]
    }
   ],
   "source": [
    "import cv2 as cv\n",
    "import os\n",
    "import numpy as np\n",
    " \n",
    " \n",
    "# 遍历文件夹函数\n",
    "def getFileList(dir, Filelist, ext=None):\n",
    "    \"\"\"\n",
    "    获取文件夹及其子文件夹中文件列表\n",
    "    输入 dir：文件夹根目录\n",
    "    输入 ext: 扩展名\n",
    "    返回： 文件路径列表\n",
    "    \"\"\"\n",
    "    newDir = dir\n",
    "    if os.path.isfile(dir):\n",
    "        if ext is None:\n",
    "            Filelist.append(dir)\n",
    "        else:\n",
    "            if ext in dir[-3:]:\n",
    "                Filelist.append(dir)\n",
    " \n",
    "    elif os.path.isdir(dir):\n",
    "        for s in os.listdir(dir):\n",
    "            newDir = os.path.join(dir, s)\n",
    "            getFileList(newDir, Filelist, ext)\n",
    " \n",
    "    return Filelist\n",
    " \n",
    " \n",
    "def mid(follow, mask):\n",
    "    half = follow.shape[1] // 2  # 从下往上扫描赛道,最下端取图片中线为分割线\n",
    "    for y in range(follow.shape[0] - 1, -1, -1):\n",
    " \n",
    "        if (mask[y][0:half] == np.zeros_like(mask[y][0:half])).all():  # 分割线左端无赛道\n",
    "            left = 0  # 取图片左边界为赛道左边界\n",
    "        else:\n",
    "            left = np.average(np.where(mask[y][0:half] == 255))  # 计算分割线左端平均位置\n",
    "        if (mask[y][half:follow.shape[1]] == np.zeros_like(mask[y][half:follow.shape[1]])).all():  # 分割线右端无赛道\n",
    "            right = follow.shape[1]  # 取图片右边界为赛道右边界\n",
    "        else:\n",
    "            right = np.average(np.where(mask[y][half:follow.shape[1]] == 255)) + half  # 计算分割线右端平均位置\n",
    " \n",
    "        mid = (left + right) // 2  # 计算拟合中点\n",
    "        half = int(mid)  # 递归,从下往上确定分割线\n",
    "        follow[y, int(mid)] = 255  # 画出拟合中线\n",
    " \n",
    "        if y == 360:  # 设置指定提取中点的纵轴位置\n",
    "            mid_output = int(mid)\n",
    " \n",
    "    cv.circle(follow, (mid_output, 360), 5, 255, -1)  # opencv为(x,y),画出指定提取中点\n",
    " \n",
    "    error = follow.shape[1] // 2 - mid_output  # 计算图片中点与指定提取中点的误差\n",
    " \n",
    "    return follow, error  # error为正数右转,为负数左转\n",
    " \n",
    "cap=cv.VideoCapture(0)\n",
    "img = cap.read()[1]\n",
    "cap.release()\n",
    "\n",
    "# HSV阈值分割\n",
    "img_hsv = cv.cvtColor(img, cv.COLOR_BGR2HSV)\n",
    "mask = cv.inRange(img_hsv, np.array([43, 60, 90]), np.array([62, 255, 255]))\n",
    "\n",
    "follow = mask.copy()\n",
    "follow, error = mid(follow, mask)\n",
    "print( f\"error:{error}\")\n",
    "\n",
    "cv.imshow(\"img\", img)\n",
    "cv.imshow(\"mask\", mask)\n",
    "cv.imshow(\"follow\", follow)\n",
    "cv.waitKey(0)\n",
    "\n",
    "cv.destroyAllWindows()"
   ]
  },
  {
   "cell_type": "code",
   "execution_count": 4,
   "metadata": {},
   "outputs": [
    {
     "data": {
      "text/plain": [
       "[2, 4, 6]"
      ]
     },
     "execution_count": 4,
     "metadata": {},
     "output_type": "execute_result"
    }
   ],
   "source": [
    "list(map(lambda x:2*x,[1,2,3]))"
   ]
  },
  {
   "cell_type": "code",
   "execution_count": null,
   "metadata": {},
   "outputs": [],
   "source": []
  }
 ],
 "metadata": {
  "kernelspec": {
   "display_name": "ai",
   "language": "python",
   "name": "python3"
  },
  "language_info": {
   "codemirror_mode": {
    "name": "ipython",
    "version": 3
   },
   "file_extension": ".py",
   "mimetype": "text/x-python",
   "name": "python",
   "nbconvert_exporter": "python",
   "pygments_lexer": "ipython3",
   "version": "3.11.4"
  }
 },
 "nbformat": 4,
 "nbformat_minor": 2
}
